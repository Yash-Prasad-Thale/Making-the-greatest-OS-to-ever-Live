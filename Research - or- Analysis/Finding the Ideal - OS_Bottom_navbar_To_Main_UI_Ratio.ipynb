{
 "cells": [
  {
   "cell_type": "markdown",
   "id": "791b347f",
   "metadata": {},
   "source": [
    "# TO-Dos for later:\n",
    "    - "
   ]
  },
  {
   "cell_type": "markdown",
   "id": "4d52dbc9",
   "metadata": {},
   "source": [
    "# Finding the Ideal - OS Bottom navbar To Main UI Ratio"
   ]
  },
  {
   "cell_type": "markdown",
   "id": "9e54b0ef",
   "metadata": {},
   "source": [
    "# Variables From Real World:"
   ]
  },
  {
   "cell_type": "code",
   "execution_count": 47,
   "id": "c205ac2a",
   "metadata": {},
   "outputs": [],
   "source": [
    "From_real_world_ColourOS = {\"Main_UI_Heights\":[15.4, 15.4, 15.2, 15.3], \"Phone_Navbar_Height\":[0.7, 0.8, 0.7, 0.7]}\n",
    "\n",
    "From_My_Figma_design = {\"Main_UI_Heights\":[825], \"Phone_Navbar_Height\":[68]}"
   ]
  },
  {
   "cell_type": "code",
   "execution_count": 48,
   "id": "615a3d39",
   "metadata": {},
   "outputs": [
    {
     "name": "stdout",
     "output_type": "stream",
     "text": [
      "Keys to access values: dict_keys(['Main_UI_Heights', 'Phone_Navbar_Height'])\n"
     ]
    }
   ],
   "source": [
    "# Main_UI_heights = \n",
    "print(f\"Keys to access values: {From_real_world_ColourOS.keys()}\")\n",
    "#Just recalled it accidentally so used it here so that I can remember."
   ]
  },
  {
   "cell_type": "code",
   "execution_count": 49,
   "id": "f11198aa",
   "metadata": {},
   "outputs": [
    {
     "name": "stdout",
     "output_type": "stream",
     "text": [
      "Main UI Heights from Real World: [15.4, 15.4, 15.2, 15.3]\n",
      "Phone Navbar heights from Real World: [0.7, 0.8, 0.7, 0.7]\n"
     ]
    }
   ],
   "source": [
    "print(f\"Main UI Heights from Real World: {From_real_world_ColourOS[\"Main_UI_Heights\"]}\")\n",
    "print(f\"Phone Navbar heights from Real World: {From_real_world_ColourOS[\"Phone_Navbar_Height\"]}\")"
   ]
  },
  {
   "cell_type": "markdown",
   "id": "9d183e2e",
   "metadata": {},
   "source": [
    "# Finding The Average real world \"Main UI Heights\": "
   ]
  },
  {
   "cell_type": "code",
   "execution_count": 50,
   "id": "b3bb1d65",
   "metadata": {},
   "outputs": [
    {
     "name": "stdout",
     "output_type": "stream",
     "text": [
      "15.4\n",
      "30.8\n",
      "46.0\n",
      "61.3\n"
     ]
    }
   ],
   "source": [
    "Total_Real_World_Main_UI_Height = 0\n",
    "\n",
    "length_of_main_ui_heights_list = len(From_real_world_ColourOS[\"Main_UI_Heights\"])\n",
    "#              iterator:         len(UI heights \"list\" from \"From_real_world_ColourOS\" )\n",
    "\n",
    "for i in range(length_of_main_ui_heights_list):\n",
    "\n",
    "    # Adding real world Main UI values to Total_Real_World_Main_UI_Height:\n",
    "    print(Total_Real_World_Main_UI_Height + From_real_world_ColourOS[\"Main_UI_Heights\"][i])\n",
    "\n",
    "    Total_Real_World_Main_UI_Height += From_real_world_ColourOS[\"Main_UI_Heights\"][i]\n",
    "# ^^^ Adding real world Main UI values to Total_Real_World_Main_UI_Height\n",
    "\n",
    "\n"
   ]
  },
  {
   "cell_type": "markdown",
   "id": "93e66465",
   "metadata": {},
   "source": [
    "# Saving Calculation Results:"
   ]
  },
  {
   "cell_type": "code",
   "execution_count": 62,
   "id": "f9900faa",
   "metadata": {},
   "outputs": [],
   "source": [
    "Conclusion_Values = {\"Avg_Main_UI_Height\":[], \"Phone_Navbar_Height\":[]}\n",
    "\n",
    "# Saving the final values in Conclusion_Values dictionary:\n",
    "    # Saving Final Average Phone Navbar height:\n",
    "Conclusion_Values[\"Avg_Main_UI_Height\"].append((Total_Real_World_Main_UI_Height/length_of_main_ui_heights_list))"
   ]
  },
  {
   "cell_type": "markdown",
   "id": "a44c4da8",
   "metadata": {},
   "source": [
    "# Printing Results:"
   ]
  },
  {
   "cell_type": "code",
   "execution_count": 63,
   "id": "dd877467",
   "metadata": {},
   "outputs": [
    {
     "name": "stdout",
     "output_type": "stream",
     "text": [
      "{'Avg_Main_UI_Height': [15.325], 'Phone_Navbar_Height': []}\n"
     ]
    }
   ],
   "source": [
    "print(Conclusion_Values)"
   ]
  },
  {
   "cell_type": "markdown",
   "id": "8535f28e",
   "metadata": {},
   "source": []
  },
  {
   "cell_type": "markdown",
   "id": "26153732",
   "metadata": {},
   "source": []
  }
 ],
 "metadata": {
  "kernelspec": {
   "display_name": "Python 3",
   "language": "python",
   "name": "python3"
  },
  "language_info": {
   "codemirror_mode": {
    "name": "ipython",
    "version": 3
   },
   "file_extension": ".py",
   "mimetype": "text/x-python",
   "name": "python",
   "nbconvert_exporter": "python",
   "pygments_lexer": "ipython3",
   "version": "3.13.5"
  }
 },
 "nbformat": 4,
 "nbformat_minor": 5
}
